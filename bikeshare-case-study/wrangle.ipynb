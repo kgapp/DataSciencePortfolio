{
 "cells": [
  {
   "cell_type": "markdown",
   "metadata": {},
   "source": [
    "# ETL with Python\n",
    "**ETL** stands for **E**xtract, **T**ransform and **L**oad. The goal of this process is to serve data to a **data warehouse** like GCP's BigQuery or AWS's Redshift."
   ]
  },
  {
   "cell_type": "markdown",
   "metadata": {},
   "source": [
    "## Data Extraction\n",
    "**Extraction** involves extracting data from various data sources like APIs or databases. **It should not affect the performance or the response time of the original data source**. Therefore, there are various data extraction strategies:\n",
    "- **Full Extraction** involves extracting all the data from all the data sources. The main use of this strategy is to load the data warehouse at the initial stage or load it when it is difficult to identify the changed data.\n",
    "- **Partial Extraction** may or may not involve **update notifications**. With one, we can simply extract the changed data. Without one, we must compare the data temporally to identify the changes before we extract them."
   ]
  },
  {
   "cell_type": "code",
   "execution_count": 13,
   "metadata": {},
   "outputs": [],
   "source": [
    "import os # write pattern to indicate location.\n",
    "files = os.path.join('./data/*.csv')\n",
    "\n",
    "import glob # return paths that match.\n",
    "files = glob.glob(files)"
   ]
  },
  {
   "cell_type": "code",
   "execution_count": 14,
   "metadata": {},
   "outputs": [],
   "source": [
    "import pandas as pd\n",
    "df = pd.concat( # stack dfs vertically.\n",
    "    map(pd.read_csv, files),\n",
    "    ignore_index=True)\n",
    "df.to_csv( # write dfs \n",
    "    './data/messy_202004_202203', \n",
    "    index=False, \n",
    "    encoding='utf-8')"
   ]
  }
 ],
 "metadata": {
  "interpreter": {
   "hash": "ecca3bd8cd297bf1de4c1ef52ab27c8f2d414edda820029c883ccff1d3bf1e23"
  },
  "kernelspec": {
   "display_name": "Python 3.9.7 ('base')",
   "language": "python",
   "name": "python3"
  },
  "language_info": {
   "codemirror_mode": {
    "name": "ipython",
    "version": 3
   },
   "file_extension": ".py",
   "mimetype": "text/x-python",
   "name": "python",
   "nbconvert_exporter": "python",
   "pygments_lexer": "ipython3",
   "version": "3.9.7"
  },
  "orig_nbformat": 4
 },
 "nbformat": 4,
 "nbformat_minor": 2
}
